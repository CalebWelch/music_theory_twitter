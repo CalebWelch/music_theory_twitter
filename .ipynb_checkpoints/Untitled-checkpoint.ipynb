{
 "cells": [
  {
   "cell_type": "code",
   "execution_count": 1,
   "metadata": {
    "collapsed": true
   },
   "outputs": [],
   "source": [
    "import tweepy\n",
    "import pandas as pd\n",
    "import json"
   ]
  },
  {
   "cell_type": "code",
   "execution_count": 2,
   "metadata": {
    "collapsed": true
   },
   "outputs": [],
   "source": [
    "keysFile = open(\"keys.txt\",\"r\")\n",
    "keys = keysFile.read().splitlines()"
   ]
  },
  {
   "cell_type": "code",
   "execution_count": 3,
   "metadata": {
    "collapsed": true
   },
   "outputs": [],
   "source": [
    "CONSUMER_KEY = keys[0]\n",
    "CONSUMER_SECRET = keys[1]\n",
    "ACCESS_TOKEN = keys[2]\n",
    "ACCESS_TOKEN_SECRET = keys[3]\n",
    "\n",
    "auth = tweepy.OAuthHandler(CONSUMER_KEY, CONSUMER_SECRET)\n",
    "auth.set_access_token(ACCESS_TOKEN, ACCESS_TOKEN_SECRET)\n",
    "api = tweepy.API(auth)"
   ]
  },
  {
   "cell_type": "code",
   "execution_count": 5,
   "metadata": {
    "scrolled": false
   },
   "outputs": [
    {
     "name": "stdout",
     "output_type": "stream",
     "text": [
      "('CASHFORGOLD🕯', 'embrace the fuck out of growth bc everything starts to make sense right after you feel the most uncomfortable and s… https://t.co/wAHEe85Igj', '\\n') ('retweeted: ', False) ('favorited: ', False) ('reply_status: ', None) ('quoted: ', False)\n",
      "\n",
      "\n",
      "('The Kansas City Star', 'Father and son are accused of beating a man over Pokémon Go, Missouri cops say https://t.co/umnPg6ntWa', '\\n') ('retweeted: ', False) ('favorited: ', False) ('reply_status: ', None) ('quoted: ', False)\n",
      "\n",
      "\n",
      "('The Kansas City Star', 'RT @bylaurenfox: This rooster ran \"afowl\" of city ordinances yesterday morning, and @KCKPDChief had something to say about it. #CockADoodle…', '\\n') ('retweeted: ', False) ('favorited: ', False) ('reply_status: ', None) ('quoted: ', False)\n",
      "\n",
      "\n",
      "('Crunchyroll', \"Good morning!!! Let's do our best today!! https://t.co/jCH5EwmU6R\", '\\n') ('retweeted: ', False) ('favorited: ', False) ('reply_status: ', None) ('quoted: ', False)\n",
      "\n",
      "\n",
      "('Anime News Network', '#News Live-Action Saint Young Men Show Reveals Visual, VR Video https://t.co/W1u7Kwbx6o', '\\n') ('retweeted: ', False) ('favorited: ', False) ('reply_status: ', None) ('quoted: ', False)\n",
      "\n",
      "\n",
      "('Anime News Network', '#News Live-Action Saint Young Men Show Reveals Visual, VR Video • Show streams on new Piccoma TV service this fall https://t.co/OBvvCJZxJ9', '\\n') ('retweeted: ', False) ('favorited: ', False) ('reply_status: ', None) ('quoted: ', False)\n",
      "\n",
      "\n",
      "('The Kansas City Star', 'This boy hated his salad so much he called 911 twice, and the Mounties showed up https://t.co/q58y72cYVt', '\\n') ('retweeted: ', False) ('favorited: ', False) ('reply_status: ', None) ('quoted: ', False)\n",
      "\n",
      "\n",
      "('The Kansas City Star', \"Watch Royals' minor-league star Seuly Matias take part in Class A Home Run Derby https://t.co/QhYq5nI4Dn\", '\\n') ('retweeted: ', False) ('favorited: ', False) ('reply_status: ', None) ('quoted: ', False)\n",
      "\n",
      "\n",
      "('Bandeauxx.', \"RT @MerriamWebster: 'Refugee' first referred to Protestants fleeing France after the 1685 revocation of the Edict of Nantes, the law that g…\", '\\n') ('retweeted: ', False) ('favorited: ', False) ('reply_status: ', None) ('quoted: ', False)\n",
      "\n",
      "\n",
      "('Anime News Network', '#Review Legend of the Galactic Heroes: Die Neue These ‒ Episode 11 #anime https://t.co/JrAUcXapFp', '\\n') ('retweeted: ', False) ('favorited: ', False) ('reply_status: ', None) ('quoted: ', False)\n",
      "\n",
      "\n",
      "('Anime News Network', '#Review Legend of the Galactic Heroes: Die Neue These ‒ Episode 11 #anime https://t.co/BWG0FUuVpd', '\\n') ('retweeted: ', False) ('favorited: ', False) ('reply_status: ', None) ('quoted: ', False)\n",
      "\n",
      "\n",
      "('Anime News Network', '#Review Little Princess in Fairy Forest Novel #manga https://t.co/0nqd5uzkzb', '\\n') ('retweeted: ', False) ('favorited: ', False) ('reply_status: ', None) ('quoted: ', False)\n",
      "\n",
      "\n",
      "('Anime News Network', '#Review Little Princess in Fairy Forest Novel #manga https://t.co/U7PQiMAIgP', '\\n') ('retweeted: ', False) ('favorited: ', False) ('reply_status: ', None) ('quoted: ', False)\n",
      "\n",
      "\n",
      "('Future Music', 'Modular Monthly: DPW Designs WF-1 Wavefolder: https://t.co/f6zd0jGJDJ via @YouTube', '\\n') ('retweeted: ', False) ('favorited: ', False) ('reply_status: ', None) ('quoted: ', False)\n",
      "\n",
      "\n",
      "('Plugin Deals', 'RT @SignumAudio: The Bute Loudness Suite is on sale now! https://t.co/yeHDK4FV8O\\n#loudness #plugins #broadcast #postproduction #mastering #…', '\\n') ('retweeted: ', False) ('favorited: ', False) ('reply_status: ', None) ('quoted: ', False)\n",
      "\n",
      "\n",
      "('The Kansas City Star', 'RT @bturque: Results due at noon today on vote for special taxes to fund Main Street extension of KC Streetcar #readlocal', '\\n') ('retweeted: ', False) ('favorited: ', False) ('reply_status: ', None) ('quoted: ', False)\n",
      "\n",
      "\n",
      "('KCMO Public Library', \"Have you checked out the reading lists, book discussion, resources, music and movies we've compiled in honor of… https://t.co/ewviiR81RX\", '\\n') ('retweeted: ', False) ('favorited: ', False) ('reply_status: ', None) ('quoted: ', False)\n",
      "\n",
      "\n",
      "('The Kansas City Star', \"Lewandowski on girl with Down syndrome: 'Wah wah' https://t.co/8yFVytcunB\", '\\n') ('retweeted: ', False) ('favorited: ', False) ('reply_status: ', None) ('quoted: ', False)\n",
      "\n",
      "\n",
      "('The Kansas City Star', \"Kelvin Herrera makes instant impact on 'crazy' first day with Nationals https://t.co/YCnVR7g199\", '\\n') ('retweeted: ', False) ('favorited: ', False) ('reply_status: ', None) ('quoted: ', False)\n",
      "\n",
      "\n",
      "('Native Instruments', 'Discover experimental #Reaktor based installations at the @TOABerlin Sound Chamber! Shout out to the students of… https://t.co/n3Z36d2tLj', '\\n') ('retweeted: ', False) ('favorited: ', False) ('reply_status: ', None) ('quoted: ', True)\n",
      "\n",
      "\n",
      "[]\n"
     ]
    }
   ],
   "source": [
    "homeTweets = api.home_timeline()\n",
    "df = pd.DataFrame(\n",
    "    columns=['user', 'retweeted', 'favorited', 'quoted', 'normal'])\n",
    "data = []\n",
    "for t in homeTweets:\n",
    "    if t.retweeted is False and t.favorited is False:\n",
    "        normal = True\n",
    "    else:\n",
    "        normal = False\n",
    "    dictTemp = {\n",
    "        \"user\": t.user.name,\n",
    "        \"retweeted\": t.retweeted,\n",
    "        \"favorited\": t.favorited,\n",
    "        \"quoted\": t.is_quote_status,\n",
    "        \"normal\": normal\n",
    "    }\n",
    "    print (dictTemp)\n",
    "    t.is_quote_status\n",
    "#     print((t.user.name, t.text, \"\\n\"),\n",
    "#           (\"retweeted: \", t._json.get('retweeted')),\n",
    "#           (\"favorited: \", t._json.get('favorited')),\n",
    "#           (\"reply_status: \", t._json.get(\"in_reply_to_screen_name\")),\n",
    "#           (\"quoted: \", t.is_quote_status))\n",
    "    print('\\n')\n",
    "\n",
    "print(data)"
   ]
  },
  {
   "cell_type": "code",
   "execution_count": 18,
   "metadata": {
    "collapsed": true
   },
   "outputs": [],
   "source": [
    "t = json.loads(text)"
   ]
  },
  {
   "cell_type": "code",
   "execution_count": 20,
   "metadata": {},
   "outputs": [
    {
     "name": "stdout",
     "output_type": "stream",
     "text": [
      "dict_keys(['created_at', 'id', 'id_str', 'text', 'truncated', 'entities', 'source', 'in_reply_to_status_id', 'in_reply_to_status_id_str', 'in_reply_to_user_id', 'in_reply_to_user_id_str', 'in_reply_to_screen_name', 'user', 'geo', 'coordinates', 'place', 'contributors', 'is_quote_status', 'retweet_count', 'favorite_count', 'favorited', 'retweeted', 'possibly_sensitive', 'possibly_sensitive_appealable', 'lang'])\n"
     ]
    }
   ],
   "source": [
    "print(t.keys())"
   ]
  },
  {
   "cell_type": "code",
   "execution_count": null,
   "metadata": {
    "collapsed": true
   },
   "outputs": [],
   "source": []
  }
 ],
 "metadata": {
  "kernelspec": {
   "display_name": "Python 3",
   "language": "python",
   "name": "python3"
  },
  "language_info": {
   "codemirror_mode": {
    "name": "ipython",
    "version": 3
   },
   "file_extension": ".py",
   "mimetype": "text/x-python",
   "name": "python",
   "nbconvert_exporter": "python",
   "pygments_lexer": "ipython3",
   "version": "3.6.5"
  },
  "varInspector": {
   "cols": {
    "lenName": 16,
    "lenType": 16,
    "lenVar": 40
   },
   "kernels_config": {
    "python": {
     "delete_cmd_postfix": "",
     "delete_cmd_prefix": "del ",
     "library": "var_list.py",
     "varRefreshCmd": "print(var_dic_list())"
    },
    "r": {
     "delete_cmd_postfix": ") ",
     "delete_cmd_prefix": "rm(",
     "library": "var_list.r",
     "varRefreshCmd": "cat(var_dic_list()) "
    }
   },
   "position": {
    "height": "487px",
    "left": "1166px",
    "right": "20px",
    "top": "120px",
    "width": "351px"
   },
   "types_to_exclude": [
    "module",
    "function",
    "builtin_function_or_method",
    "instance",
    "_Feature"
   ],
   "window_display": false
  }
 },
 "nbformat": 4,
 "nbformat_minor": 2
}
