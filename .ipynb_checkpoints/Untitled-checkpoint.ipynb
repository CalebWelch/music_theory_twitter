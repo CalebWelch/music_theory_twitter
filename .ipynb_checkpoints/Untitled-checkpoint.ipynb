{
 "cells": [
  {
   "cell_type": "markdown",
   "metadata": {},
   "source": [
    "<h1>fix way it's saving data </h1>"
   ]
  },
  {
   "cell_type": "code",
   "execution_count": 6,
   "metadata": {},
   "outputs": [
    {
     "name": "stdout",
     "output_type": "stream",
     "text": [
      "1018866702656950272\n",
      "No new tweets\n"
     ]
    }
   ],
   "source": [
    "import os\n",
    "import tweepy\n",
    "import pandas as pd\n",
    "import json\n",
    "\n",
    "\n",
    "def grabTweets(api, maxId=None):\n",
    "    homeTweets = api.home_timeline(since_id=maxId)\n",
    "    print(maxId)\n",
    "    data = []\n",
    "    for t in homeTweets:\n",
    "        normal = True\n",
    "        if \"retweeted_status\" in t._json.keys():\n",
    "            retweeted = True\n",
    "            normal = False\n",
    "        else:\n",
    "            retweeted = False\n",
    "        if \"favorited_status\" in t._json.keys():\n",
    "            favorited = True\n",
    "            normal = False\n",
    "        else:\n",
    "            favorited = False\n",
    "        dictTemp = {\n",
    "            \"timestamp\": t.created_at,\n",
    "            \"id\": t.id,\n",
    "            \"user\": t.user.name,\n",
    "            \"retweeted\": retweeted,\n",
    "            \"favorited\": t.favorited,\n",
    "            \"quoted\": t.is_quote_status,\n",
    "            \"normal\": normal\n",
    "        }\n",
    "        data.append(dictTemp)\n",
    "    data.reverse()\n",
    "    return (data)\n",
    "\n",
    "\n",
    "def saveData(data):\n",
    "    if len(data) is not 0:\n",
    "        #script_path = os.path.dirname(os.path.abspath(__file__))\n",
    "        df = pd.DataFrame(data)\n",
    "        print (df)\n",
    "        cols = df.columns.tolist()\n",
    "        df = df[[\n",
    "            \"user\", \"normal\", \"retweeted\", \"quoted\", \"favorited\", \"id\", \"timestamp\"\n",
    "        ]]\n",
    "        #f #u= script_path + '\\my_csv.csv'\n",
    "        df.to_csv('my_csv.csv', float_format='{:f}'.format, header=False, mode='a')\n",
    "        print(df)\n",
    "    else:\n",
    "        print('No new tweets')\n",
    "\n",
    "\n",
    "def scrapeTwitter(df, api):\n",
    "    try:\n",
    "        idStart = df.id.iloc[-1]\n",
    "    except IndexError:\n",
    "        idStart = None\n",
    "    saveData(grabTweets(api, idStart))\n",
    "\n",
    "\n",
    "def main():\n",
    "    #script_path = os.path.dirname(os.path.abspath(__file__))\n",
    "    keysFile = open(( \"keys.txt\"), \"r\")\n",
    "    keys = keysFile.read().splitlines()\n",
    "    keysFile.close()\n",
    "    CONSUMER_KEY = keys[0]\n",
    "    CONSUMER_SECRET = keys[1]\n",
    "    ACCESS_TOKEN = keys[2]\n",
    "    ACCESS_TOKEN_SECRET = keys[3]\n",
    "\n",
    "    auth = tweepy.OAuthHandler(CONSUMER_KEY, CONSUMER_SECRET)\n",
    "    auth.set_access_token(ACCESS_TOKEN, ACCESS_TOKEN_SECRET)\n",
    "    api = tweepy.API(auth)\n",
    "    df = pd.DataFrame(columns=[\n",
    "            \"user\", \"normal\", \"retweeted\", \"quoted\", \"favorited\", \"id\", \"timestamp\"\n",
    "    ])\n",
    "    f = 'my_csv.csv'\n",
    "    if not os.path.isfile(f):\n",
    "        df.to_csv(f, float_format='{:f}'.format, header='column_names')\n",
    "    else:\n",
    "        df = pd.read_csv(f)\n",
    "    scrapeTwitter(df, api)\n",
    "\n",
    "\n",
    "if __name__ == \"__main__\":\n",
    "     main()"
   ]
  },
  {
   "cell_type": "code",
   "execution_count": null,
   "metadata": {},
   "outputs": [],
   "source": []
  },
  {
   "cell_type": "code",
   "execution_count": 7,
   "metadata": {
    "collapsed": true
   },
   "outputs": [],
   "source": [
    "# main()\n",
    "\n",
    "df2 = pd.read_csv('my_csv.csv')\n",
    "\n",
    "df2"
   ]
  },
  {
   "cell_type": "code",
   "execution_count": 99,
   "metadata": {
    "collapsed": true
   },
   "outputs": [],
   "source": [
    "df2.drop(columns='Unnamed: 0', inplace=True)"
   ]
  },
  {
   "cell_type": "code",
   "execution_count": 22,
   "metadata": {
    "collapsed": true
   },
   "outputs": [],
   "source": [
    "    keysFile = open(\"keys.txt\", \"r\")\n",
    "    keys = keysFile.read().splitlines()\n",
    "\n",
    "    CONSUMER_KEY = keys[0]\n",
    "    CONSUMER_SECRET = keys[1]\n",
    "    ACCESS_TOKEN = keys[2]\n",
    "    ACCESS_TOKEN_SECRET = keys[3]\n",
    "\n",
    "    auth = tweepy.OAuthHandler(CONSUMER_KEY, CONSUMER_SECRET)\n",
    "    auth.set_access_token(ACCESS_TOKEN, ACCESS_TOKEN_SECRET)\n",
    "    api = tweepy.API(auth)"
   ]
  },
  {
   "cell_type": "code",
   "execution_count": 49,
   "metadata": {
    "collapsed": true
   },
   "outputs": [
    {
     "name": "stdout",
     "output_type": "stream",
     "text": [
      "True\n",
      "{'timestamp': datetime.datetime(2018, 6, 26, 17, 6, 7), 'id': 1011656866252886018, 'user': 'KVR Audio', 'retweeted': False, 'favorited': False, 'quoted': False, 'normal': True} 1011640003997429762\n",
      "\n",
      "\n",
      "True\n",
      "{'timestamp': datetime.datetime(2018, 6, 26, 17, 3, 53), 'id': 1011656307214913538, 'user': 'Siraj Raval', 'retweeted': False, 'favorited': False, 'quoted': False, 'normal': True} 1011640003997429762\n",
      "\n",
      "\n",
      "True\n",
      "{'timestamp': datetime.datetime(2018, 6, 26, 17, 0, 8), 'id': 1011655361672011776, 'user': 'Crunchyroll', 'retweeted': True, 'favorited': False, 'quoted': False, 'normal': False} 1011640003997429762\n",
      "\n",
      "\n",
      "True\n",
      "{'timestamp': datetime.datetime(2018, 6, 26, 16, 59, 50), 'id': 1011655287239946242, 'user': 'Crunchyroll', 'retweeted': True, 'favorited': False, 'quoted': False, 'normal': False} 1011640003997429762\n",
      "\n",
      "\n",
      "True\n",
      "{'timestamp': datetime.datetime(2018, 6, 26, 16, 57, 3), 'id': 1011654587340722185, 'user': 'The Kansas City Star', 'retweeted': True, 'favorited': False, 'quoted': False, 'normal': False} 1011640003997429762\n",
      "\n",
      "\n",
      "True\n",
      "{'timestamp': datetime.datetime(2018, 6, 26, 16, 56, 2), 'id': 1011654328833146880, 'user': 'The Kansas City Star', 'retweeted': False, 'favorited': False, 'quoted': False, 'normal': True} 1011640003997429762\n",
      "\n",
      "\n",
      "True\n",
      "{'timestamp': datetime.datetime(2018, 6, 26, 16, 55, 3), 'id': 1011654083437125632, 'user': 'Anime News Network', 'retweeted': False, 'favorited': False, 'quoted': False, 'normal': True} 1011640003997429762\n",
      "\n",
      "\n",
      "True\n",
      "{'timestamp': datetime.datetime(2018, 6, 26, 16, 55, 3), 'id': 1011654082015186944, 'user': 'Anime News Network', 'retweeted': False, 'favorited': False, 'quoted': False, 'normal': True} 1011640003997429762\n",
      "\n",
      "\n",
      "True\n",
      "{'timestamp': datetime.datetime(2018, 6, 26, 16, 54, 36), 'id': 1011653969154859008, 'user': 'Kansas City, MO', 'retweeted': False, 'favorited': False, 'quoted': False, 'normal': True} 1011640003997429762\n",
      "\n",
      "\n",
      "True\n",
      "{'timestamp': datetime.datetime(2018, 6, 26, 16, 53, 18), 'id': 1011653643634970624, 'user': 'EDM.com', 'retweeted': False, 'favorited': False, 'quoted': False, 'normal': True} 1011640003997429762\n",
      "\n",
      "\n",
      "True\n",
      "{'timestamp': datetime.datetime(2018, 6, 26, 16, 52, 35), 'id': 1011653462113701888, 'user': 'Mega Man', 'retweeted': False, 'favorited': False, 'quoted': False, 'normal': True} 1011640003997429762\n",
      "\n",
      "\n",
      "True\n",
      "{'timestamp': datetime.datetime(2018, 6, 26, 16, 52, 2), 'id': 1011653323945062400, 'user': 'Plugin Deals', 'retweeted': False, 'favorited': False, 'quoted': False, 'normal': True} 1011640003997429762\n",
      "\n",
      "\n",
      "True\n",
      "{'timestamp': datetime.datetime(2018, 6, 26, 16, 52, 2), 'id': 1011653323458596865, 'user': 'The Kansas City Star', 'retweeted': False, 'favorited': False, 'quoted': False, 'normal': True} 1011640003997429762\n",
      "\n",
      "\n",
      "True\n",
      "{'timestamp': datetime.datetime(2018, 6, 26, 16, 51, 1), 'id': 1011653068029612032, 'user': 'Plugin Deals', 'retweeted': False, 'favorited': False, 'quoted': False, 'normal': True} 1011640003997429762\n",
      "\n",
      "\n",
      "True\n",
      "{'timestamp': datetime.datetime(2018, 6, 26, 16, 50, 6), 'id': 1011652835782660096, 'user': 'Spitfire Audio', 'retweeted': False, 'favorited': False, 'quoted': False, 'normal': True} 1011640003997429762\n",
      "\n",
      "\n",
      "True\n",
      "{'timestamp': datetime.datetime(2018, 6, 26, 16, 49, 4), 'id': 1011652575433756672, 'user': 'Calvin and Hobbes', 'retweeted': False, 'favorited': False, 'quoted': False, 'normal': True} 1011640003997429762\n",
      "\n",
      "\n",
      "True\n",
      "{'timestamp': datetime.datetime(2018, 6, 26, 16, 49, 1), 'id': 1011652563723325440, 'user': 'EDM.com', 'retweeted': False, 'favorited': False, 'quoted': False, 'normal': True} 1011640003997429762\n",
      "\n",
      "\n",
      "True\n",
      "{'timestamp': datetime.datetime(2018, 6, 26, 16, 45, 3), 'id': 1011651567743852544, 'user': 'Anime News Network', 'retweeted': False, 'favorited': False, 'quoted': False, 'normal': True} 1011640003997429762\n",
      "\n",
      "\n",
      "True\n",
      "{'timestamp': datetime.datetime(2018, 6, 26, 16, 45, 3), 'id': 1011651566418481152, 'user': 'Anime News Network', 'retweeted': False, 'favorited': False, 'quoted': False, 'normal': True} 1011640003997429762\n",
      "\n",
      "\n"
     ]
    }
   ],
   "source": [
    "df3 = pd.read_csv('my_csv.csv')\n",
    "maxId = df3.loc[0,'id']\n",
    "homeTweets = api.home_timeline(since_id=maxId)\n",
    "data = []\n",
    "for t in homeTweets:\n",
    "    normal = True\n",
    "    if \"retweeted_status\" in t._json.keys():\n",
    "        retweeted = True\n",
    "        normal = False\n",
    "    else:\n",
    "        retweeted = False\n",
    "    if \"favorited_status\" in t._json.keys():\n",
    "        favorited = True\n",
    "        normal = False\n",
    "    else:\n",
    "        favorited = False\n",
    "    print(maxId < t.id)\n",
    "    dictTemp = {\n",
    "        \"timestamp\": t.created_at,\n",
    "        \"id\": t.id,\n",
    "        \"user\": t.user.name,\n",
    "        \"retweeted\": retweeted,\n",
    "        \"favorited\": t.favorited,\n",
    "        \"quoted\": t.is_quote_status,\n",
    "        \"normal\": normal\n",
    "    }\n",
    "    data.append(dictTemp)\n",
    "    print(dictTemp, maxId)\n",
    "    print('\\n')"
   ]
  },
  {
   "cell_type": "code",
   "execution_count": 100,
   "metadata": {},
   "outputs": [
    {
     "data": {
      "text/plain": [
       "1012042794800746497"
      ]
     },
     "execution_count": 100,
     "metadata": {},
     "output_type": "execute_result"
    }
   ],
   "source": [
    "df2.id.iloc[-1]"
   ]
  },
  {
   "cell_type": "code",
   "execution_count": null,
   "metadata": {
    "collapsed": true
   },
   "outputs": [],
   "source": []
  }
 ],
 "metadata": {
  "kernelspec": {
   "display_name": "Python 3",
   "language": "python",
   "name": "python3"
  },
  "language_info": {
   "codemirror_mode": {
    "name": "ipython",
    "version": 3
   },
   "file_extension": ".py",
   "mimetype": "text/x-python",
   "name": "python",
   "nbconvert_exporter": "python",
   "pygments_lexer": "ipython3",
   "version": "3.6.5"
  },
  "varInspector": {
   "cols": {
    "lenName": 16,
    "lenType": 16,
    "lenVar": 40
   },
   "kernels_config": {
    "python": {
     "delete_cmd_postfix": "",
     "delete_cmd_prefix": "del ",
     "library": "var_list.py",
     "varRefreshCmd": "print(var_dic_list())"
    },
    "r": {
     "delete_cmd_postfix": ") ",
     "delete_cmd_prefix": "rm(",
     "library": "var_list.r",
     "varRefreshCmd": "cat(var_dic_list()) "
    }
   },
   "position": {
    "height": "487px",
    "left": "1166px",
    "right": "20px",
    "top": "120px",
    "width": "351px"
   },
   "types_to_exclude": [
    "module",
    "function",
    "builtin_function_or_method",
    "instance",
    "_Feature"
   ],
   "window_display": false
  }
 },
 "nbformat": 4,
 "nbformat_minor": 2
}
