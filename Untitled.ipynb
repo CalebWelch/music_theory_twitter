{
 "cells": [
  {
   "cell_type": "code",
   "execution_count": 5,
   "metadata": {},
   "outputs": [],
   "source": [
    "import tweepy\n",
    "import json\n"
   ]
  },
  {
   "cell_type": "code",
   "execution_count": 2,
   "metadata": {},
   "outputs": [],
   "source": [
    "import tweepy\n",
    "\n",
    "CONSUMER_KEY = \"gCJP4sn8YdULUNFpBdgY3YXMI\"\n",
    "CONSUMER_SECRET = \"4WcDPQF7xJVJc61D9oJWCJLsB2nKZWmylDtlcodBFeCmdajcGd\"\n",
    "ACCESS_TOKEN = \"962159029375074304-CZsb8Je5sLmLhGJSCcZawyFWgwxpBwj\"\n",
    "ACCESS_TOKEN_SECRET = \"eMZFSt8Qweak29KV57tg8AMw8Y4HOvaVg92tBzJUoBvfS\"\n",
    "\n",
    "auth = tweepy.OAuthHandler(CONSUMER_KEY, CONSUMER_SECRET)\n",
    "auth.set_access_token(ACCESS_TOKEN, ACCESS_TOKEN_SECRET)\n",
    "api = tweepy.API(auth)"
   ]
  },
  {
   "cell_type": "code",
   "execution_count": 3,
   "metadata": {},
   "outputs": [
    {
     "name": "stdout",
     "output_type": "stream",
     "text": [
      "https://t.co/CeJQY0PY34\n",
      "Some more #jazz music in the works\n",
      "https://t.co/pAoiyNYcks  a little sneak peak at some jazz songs i'm working on 👺#Jazz\n",
      "I'm always flip flopping between writing orchestral stuff and jazz stuff. As soon as I start one thing I immediatel… https://t.co/FMBXQ4PfAc\n",
      "@WilliamS_mus Work forbids me, we're locked into eclipse 🔪🔫\n",
      "When I die, know that it'll be because eclipse broke my dev environment for the last time and I had an aneurysm\n",
      "RT @dog_rates: @MegaMan 14/10 faithful af\n",
      "@adultswim did I see #FLCL ad on the history channel??\n",
      "HYPE HYPE HYPE https://t.co/tClLhYFeA9\n",
      "I got featured on this track playing some smooth jazz. Hire me please. #trumpet \n",
      "https://t.co/RG2vHpXUWM\n",
      "https://t.co/D2ZkrqBASd\n",
      "from the #Blues night last night.\n",
      "#Blues night tonight! 🎺 https://t.co/YTE6TMVO42\n",
      "RT @sofiaraisanen: Today's transcription of my Q&amp;A!  4 hour session! @EDMPDiscord  @discordapp https://t.co/ZD4nc1YYJR\n",
      "RT @reaperblog: absolutely. #reaperdaw people are the worst. https://t.co/m1loRJT3zd\n",
      "@sofiaraisanen Hey this is Lysol from the mod team at @EDMPDiscord . Thanks for the great Q&amp;A today!\n",
      "RT @d_baerit: EDMP has a new playlist up, go check it out! #edmp #edm #electronicmusic https://t.co/wlq8zEwm33\n",
      "https://t.co/710jsEFCe0 some easy #jazz while i brainstorm some new ideas. #trumpet\n",
      "https://t.co/qt5C4bwJt5\n",
      "new song, uhhhhh, ya. #bass #wonky\n",
      "https://t.co/wCjWQWAmwU\n",
      "RT @SpitfireAudio: Spitfire Chamber Strings Professional.\n",
      "https://t.co/iMKx23v2l8 https://t.co/r0fDtQek1C\n",
      "Writing a quick jazz tune for a small competition #trumpet #jazz #swing\n",
      "https://t.co/znKemtrp5T\n"
     ]
    }
   ],
   "source": [
    "homeTweets = api.user_timeline(\"AeroSoul6\")\n",
    "for t in homeTweets:\n",
    "    print(t.text)"
   ]
  },
  {
   "cell_type": "code",
   "execution_count": 22,
   "metadata": {
    "scrolled": true
   },
   "outputs": [
    {
     "name": "stdout",
     "output_type": "stream",
     "text": [
      "False\n",
      "False\n"
     ]
    }
   ],
   "source": [
    "homeTweets = api.home_timeline(count=2)\n",
    "for t in homeTweets:\n",
    "    print((t._json.get('retweeted')))\n",
    "    test = json.dumps(t._json)"
   ]
  },
  {
   "cell_type": "code",
   "execution_count": 16,
   "metadata": {},
   "outputs": [],
   "source": [
    "test = json.loads(test)"
   ]
  },
  {
   "cell_type": "code",
   "execution_count": 19,
   "metadata": {},
   "outputs": [
    {
     "data": {
      "text/plain": [
       "dict_keys(['created_at', 'id', 'id_str', 'text', 'truncated', 'entities', 'source', 'in_reply_to_status_id', 'in_reply_to_status_id_str', 'in_reply_to_user_id', 'in_reply_to_user_id_str', 'in_reply_to_screen_name', 'user', 'geo', 'coordinates', 'place', 'contributors', 'retweeted_status', 'is_quote_status', 'retweet_count', 'favorite_count', 'favorited', 'retweeted', 'lang'])"
      ]
     },
     "execution_count": 19,
     "metadata": {},
     "output_type": "execute_result"
    }
   ],
   "source": [
    "test.keys()"
   ]
  },
  {
   "cell_type": "code",
   "execution_count": null,
   "metadata": {
    "collapsed": true
   },
   "outputs": [],
   "source": []
  }
 ],
 "metadata": {
  "kernelspec": {
   "display_name": "Python 3",
   "language": "python",
   "name": "python3"
  },
  "language_info": {
   "codemirror_mode": {
    "name": "ipython",
    "version": 3
   },
   "file_extension": ".py",
   "mimetype": "text/x-python",
   "name": "python",
   "nbconvert_exporter": "python",
   "pygments_lexer": "ipython3",
   "version": "3.6.5"
  }
 },
 "nbformat": 4,
 "nbformat_minor": 2
}
