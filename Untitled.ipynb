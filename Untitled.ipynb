{
 "cells": [
  {
   "cell_type": "code",
   "execution_count": 1,
   "metadata": {},
   "outputs": [],
   "source": [
    "import tweepy\n",
    "import pandas as pd\n",
    "import json"
   ]
  },
  {
   "cell_type": "code",
   "execution_count": 2,
   "metadata": {},
   "outputs": [],
   "source": [
    "keysFile = open(\"keys.txt\",\"r\")\n",
    "keys = keysFile.read().splitlines()"
   ]
  },
  {
   "cell_type": "code",
   "execution_count": 3,
   "metadata": {},
   "outputs": [],
   "source": [
    "CONSUMER_KEY = keys[0]\n",
    "CONSUMER_SECRET = keys[1]\n",
    "ACCESS_TOKEN = keys[2]\n",
    "ACCESS_TOKEN_SECRET = keys[3]\n",
    "\n",
    "auth = tweepy.OAuthHandler(CONSUMER_KEY, CONSUMER_SECRET)\n",
    "auth.set_access_token(ACCESS_TOKEN, ACCESS_TOKEN_SECRET)\n",
    "api = tweepy.API(auth)"
   ]
  },
  {
   "cell_type": "code",
   "execution_count": 6,
   "metadata": {
    "scrolled": false
   },
   "outputs": [
    {
     "name": "stdout",
     "output_type": "stream",
     "text": [
      "('Kansas City Symphony', 'Premium live music. World-class talent. Amazing acoustics. Season packages start at only $20 per concert — order to… https://t.co/iksqoaqRnM', '\\n') ('retweeted: ', False) ('favorited: ', False) ('reply_status: ', None)\n",
      "\n",
      "\n",
      "('Plugin Deals', 'Please follow our Facebook page for the latest deals on audio plugins. Thank you! https://t.co/KqqptQUbDo https://t.co/zoyZqvHnVY', '\\n') ('retweeted: ', False) ('favorited: ', False) ('reply_status: ', None)\n",
      "\n",
      "\n",
      "('The Kansas City Star', 'Bill Self would consider coaching for USA Basketball again, speaks on Vick, De Sousa https://t.co/IENbXZrDd2', '\\n') ('retweeted: ', False) ('favorited: ', False) ('reply_status: ', None)\n",
      "\n",
      "\n",
      "('Plugin Deals', 'Wave Alchemy Synth Drums 1 GBP Sale - 70% Off! https://t.co/hJ1dmTbUWX @PluginBoutique @wavealchemy 20:02 https://t.co/nAh7jluic4', '\\n') ('retweeted: ', False) ('favorited: ', False) ('reply_status: ', None)\n",
      "\n",
      "\n",
      "('Plugin Deals', 'Get Waves Kramer PIE Compressor for only $29 + 10% OFF (reg $249) https://t.co/d8lv3WRA8Z @WavesAudioLtd 20:01 https://t.co/zf2atFaC0E', '\\n') ('retweeted: ', False) ('favorited: ', False) ('reply_status: ', None)\n",
      "\n",
      "\n",
      "('Crunchyroll', 'HE LOOKS SO HAPPY WITH HIS SAND (via How to Keep a Mummy) https://t.co/4BBC3kchx6', '\\n') ('retweeted: ', False) ('favorited: ', False) ('reply_status: ', None)\n",
      "\n",
      "\n",
      "('WeRateDogs™🏳️\\u200d🌈', 'We only rate dogs. Please don’t send us Oreo Ice Cream. This is not complicated. Thank you... 14/10 https://t.co/R2JIXFx7vV', '\\n') ('retweeted: ', False) ('favorited: ', False) ('reply_status: ', None)\n",
      "\n",
      "\n",
      "('Kansas City, MO', 'We spot City Hall! 😃 Enjoy the evening for the #smckc #AMPSKC event! https://t.co/0H23fke0rC', '\\n') ('retweeted: ', False) ('favorited: ', False) ('reply_status: ', None)\n",
      "\n",
      "\n",
      "('Anime News Network', '#Interest Banana Fish Gets Branded Smoothies (Sans Fish) at Lawson https://t.co/ueHKx6tp0Q', '\\n') ('retweeted: ', False) ('favorited: ', False) ('reply_status: ', None)\n",
      "\n",
      "\n",
      "('Anime News Network', \"#Interest Banana Fish Gets Branded Smoothies (Sans Fish) at Lawson • Akimi Yoshida's Banana Fish manga has a rather… https://t.co/m1FsUpONWV\", '\\n') ('retweeted: ', False) ('favorited: ', False) ('reply_status: ', None)\n",
      "\n",
      "\n",
      "('Bandeauxx.', 'RT @sandraohlee: I was going 50 in a 40 &amp; I passed this cop, right? He tried to u-turn but ended up hitting the curb &amp; fucking up his tire.…', '\\n') ('retweeted: ', False) ('favorited: ', False) ('reply_status: ', None)\n",
      "\n",
      "\n",
      "('The Kansas City Star', \"What questions do you have about economy and jobs in #Missouri? Submit your questions and we'll bring them to our I… https://t.co/DF6JeKasLg\", '\\n') ('retweeted: ', False) ('favorited: ', False) ('reply_status: ', None)\n",
      "\n",
      "\n",
      "('Crunchyroll', 'FEATURE: The 5 Most Loved and Hated Hair Antennas in Anime\\n\\n⭐️ More: https://t.co/H4Cjxvhrpd https://t.co/l3wOxMi0u3', '\\n') ('retweeted: ', False) ('favorited: ', False) ('reply_status: ', None)\n",
      "\n",
      "\n",
      "('Anime News Network', '#Review One Piece ‒ Episode 841 #anime https://t.co/NO1Qj6I0hU', '\\n') ('retweeted: ', False) ('favorited: ', False) ('reply_status: ', None)\n",
      "\n",
      "\n",
      "('Anime News Network', '#Review One Piece ‒ Episode 841 #anime https://t.co/XARLZYxOu1', '\\n') ('retweeted: ', False) ('favorited: ', False) ('reply_status: ', None)\n",
      "\n",
      "\n",
      "('Anime News Network', \"#News Paramount CEO: Sonic the Hedgehog is 'Juvenile Delinquent' in Upcoming Film https://t.co/g06rnLnJtv\", '\\n') ('retweeted: ', False) ('favorited: ', False) ('reply_status: ', None)\n",
      "\n",
      "\n",
      "('Anime News Network', \"#News Paramount CEO: Sonic the Hedgehog is 'Juvenile Delinquent' in Upcoming Film • Character to appear in rural en… https://t.co/LOoBtFQYKV\", '\\n') ('retweeted: ', False) ('favorited: ', False) ('reply_status: ', None)\n",
      "\n",
      "\n",
      "('Crunchyroll', \"IT'S...ONLY TUESDAY. (via Golden Kamuy) https://t.co/5ndeOJgTE7\", '\\n') ('retweeted: ', False) ('favorited: ', False) ('reply_status: ', None)\n",
      "\n",
      "\n",
      "('Phuture Collective', 'RT @kanyewest: I killed my ego', '\\n') ('retweeted: ', False) ('favorited: ', False) ('reply_status: ', None)\n",
      "\n",
      "\n",
      "('The Kansas City Star', 'Royals draft pick Kowar deals 13 strikeouts in College World Series win over Texas https://t.co/e4zfSKQNpu', '\\n') ('retweeted: ', False) ('favorited: ', False) ('reply_status: ', None)\n",
      "\n",
      "\n",
      "[]\n"
     ]
    }
   ],
   "source": [
    "homeTweets = api.home_timeline()\n",
    "df = pd.DataFrame(columns=['user','retweeted','favorited','quoted','normal'])\n",
    "data = []\n",
    "for t in homeTweets:\n",
    "    \n",
    "    #data.append(dict(zip(t.retweeted, t.favorited, t.is_quote_status)))\n",
    "        \n",
    "    print((t.user.name, t.text, \"\\n\"),\n",
    "          (\"retweeted: \", t._json.get('retweeted')),\n",
    "          (\"favorited: \",t._json.get('favorited')),\n",
    "          (\"reply_status: \",t._json.get(\"in_reply_to_screen_name\")))\n",
    "    print('\\n')\n",
    "    \n",
    "print (data)"
   ]
  },
  {
   "cell_type": "code",
   "execution_count": 18,
   "metadata": {},
   "outputs": [],
   "source": [
    "t = json.loads(text)"
   ]
  },
  {
   "cell_type": "code",
   "execution_count": 20,
   "metadata": {},
   "outputs": [
    {
     "name": "stdout",
     "output_type": "stream",
     "text": [
      "dict_keys(['created_at', 'id', 'id_str', 'text', 'truncated', 'entities', 'source', 'in_reply_to_status_id', 'in_reply_to_status_id_str', 'in_reply_to_user_id', 'in_reply_to_user_id_str', 'in_reply_to_screen_name', 'user', 'geo', 'coordinates', 'place', 'contributors', 'is_quote_status', 'retweet_count', 'favorite_count', 'favorited', 'retweeted', 'possibly_sensitive', 'possibly_sensitive_appealable', 'lang'])\n"
     ]
    }
   ],
   "source": [
    "print(t.keys())"
   ]
  },
  {
   "cell_type": "code",
   "execution_count": null,
   "metadata": {},
   "outputs": [],
   "source": []
  }
 ],
 "metadata": {
  "kernelspec": {
   "display_name": "Python 3",
   "language": "python",
   "name": "python3"
  },
  "language_info": {
   "codemirror_mode": {
    "name": "ipython",
    "version": 3
   },
   "file_extension": ".py",
   "mimetype": "text/x-python",
   "name": "python",
   "nbconvert_exporter": "python",
   "pygments_lexer": "ipython3",
   "version": "3.6.5"
  },
  "varInspector": {
   "cols": {
    "lenName": 16,
    "lenType": 16,
    "lenVar": 40
   },
   "kernels_config": {
    "python": {
     "delete_cmd_postfix": "",
     "delete_cmd_prefix": "del ",
     "library": "var_list.py",
     "varRefreshCmd": "print(var_dic_list())"
    },
    "r": {
     "delete_cmd_postfix": ") ",
     "delete_cmd_prefix": "rm(",
     "library": "var_list.r",
     "varRefreshCmd": "cat(var_dic_list()) "
    }
   },
   "position": {
    "height": "487px",
    "left": "1166px",
    "right": "20px",
    "top": "120px",
    "width": "351px"
   },
   "types_to_exclude": [
    "module",
    "function",
    "builtin_function_or_method",
    "instance",
    "_Feature"
   ],
   "window_display": false
  }
 },
 "nbformat": 4,
 "nbformat_minor": 2
}
