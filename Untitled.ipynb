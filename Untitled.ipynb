{
 "cells": [
  {
   "cell_type": "code",
   "execution_count": 1,
   "metadata": {
    "collapsed": true
   },
   "outputs": [],
   "source": [
    "import tweepy\n",
    "import pandas as pd\n",
    "import json"
   ]
  },
  {
   "cell_type": "code",
   "execution_count": 2,
   "metadata": {
    "collapsed": true
   },
   "outputs": [],
   "source": [
    "keysFile = open(\"keys.txt\",\"r\")\n",
    "keys = keysFile.read().splitlines()"
   ]
  },
  {
   "cell_type": "code",
   "execution_count": 3,
   "metadata": {
    "collapsed": true
   },
   "outputs": [],
   "source": [
    "CONSUMER_KEY = keys[0]\n",
    "CONSUMER_SECRET = keys[1]\n",
    "ACCESS_TOKEN = keys[2]\n",
    "ACCESS_TOKEN_SECRET = keys[3]\n",
    "\n",
    "auth = tweepy.OAuthHandler(CONSUMER_KEY, CONSUMER_SECRET)\n",
    "auth.set_access_token(ACCESS_TOKEN, ACCESS_TOKEN_SECRET)\n",
    "api = tweepy.API(auth)"
   ]
  },
  {
   "cell_type": "code",
   "execution_count": 25,
   "metadata": {
    "scrolled": false
   },
   "outputs": [
    {
     "name": "stdout",
     "output_type": "stream",
     "text": [
      "dict_keys(['hashtags', 'symbols', 'user_mentions', 'urls'])\n",
      "False\n",
      "('The Kansas City Star', 'One arrested for allegedly slashing another with a knife Tuesday, police say https://t.co/aUOnFY8YsT', '\\n') ('retweeted: ', False) ('favorited: ', False) ('reply_status: ', None) ('quoted: ', False)\n",
      "\n",
      "\n",
      "dict_keys(['hashtags', 'symbols', 'user_mentions', 'urls'])\n",
      "False\n",
      "('The Kansas City Star', \"RT @BryanLowry3: This news comes after several GOP senators signed onto Cruz's proposal to end family separation, including @PatRoberts and…\", '\\n') ('retweeted: ', False) ('favorited: ', False) ('reply_status: ', None) ('quoted: ', True)\n",
      "\n",
      "\n",
      "dict_keys(['hashtags', 'symbols', 'user_mentions', 'urls'])\n",
      "False\n",
      "('Crunchyroll', \"RT @ellyberries: Did you know that anime has a close relationship with hip hop and rap? It's not as rare as you may think! \\n\\n🎧 Read on: htt…\", '\\n') ('retweeted: ', False) ('favorited: ', False) ('reply_status: ', None) ('quoted: ', False)\n",
      "\n",
      "\n",
      "dict_keys(['hashtags', 'symbols', 'user_mentions', 'urls'])\n",
      "True\n",
      "('The Kansas City Star', 'Homeland Security drafts plan to end family separation https://t.co/zIgzYoONCH', '\\n') ('retweeted: ', True) ('favorited: ', False) ('reply_status: ', None) ('quoted: ', False)\n",
      "\n",
      "\n",
      "dict_keys(['hashtags', 'symbols', 'user_mentions', 'urls'])\n",
      "False\n",
      "('Your EDM', 'RT @PacesMusic: Ayyyyy thanks for sharing the love @YourEDM!! 🙏🏻💕 Much appreesh! https://t.co/9UpNj2yc6z', '\\n') ('retweeted: ', False) ('favorited: ', False) ('reply_status: ', None) ('quoted: ', False)\n",
      "\n",
      "\n",
      "dict_keys(['hashtags', 'symbols', 'user_mentions', 'urls'])\n",
      "False\n",
      "('sofia', \"29 feels good thus far\\nA phase I've sought for long, afar\\nIt's here, now, a forgotton memory\\nRemembered as my heart… https://t.co/tTOrZPt3Os\", '\\n') ('retweeted: ', False) ('favorited: ', False) ('reply_status: ', None) ('quoted: ', False)\n",
      "\n",
      "\n",
      "dict_keys(['hashtags', 'symbols', 'user_mentions', 'urls'])\n",
      "False\n",
      "('The Kansas City Star', 'RT @lindsaywise: Kansas @SenPatRoberts also has signed onto the Cruz bill to end family separations and speed up hearings / deportations by…', '\\n') ('retweeted: ', False) ('favorited: ', False) ('reply_status: ', None) ('quoted: ', False)\n",
      "\n",
      "\n",
      "dict_keys(['hashtags', 'symbols', 'user_mentions', 'urls', 'media'])\n",
      "False\n",
      "('Future Music', 'Analogue Solutions officially releases a Eurorack version of its Treadstone synth https://t.co/QGN0ld5e28 https://t.co/8G5XHxeMMO', '\\n') ('retweeted: ', False) ('favorited: ', False) ('reply_status: ', None) ('quoted: ', False)\n",
      "\n",
      "\n",
      "dict_keys(['hashtags', 'symbols', 'user_mentions', 'urls'])\n",
      "False\n",
      "('The Kansas City Star', 'FDA reconsiders added sugar label for maple syrup, honey https://t.co/Sq0Tr9pUus', '\\n') ('retweeted: ', False) ('favorited: ', False) ('reply_status: ', None) ('quoted: ', False)\n",
      "\n",
      "\n",
      "dict_keys(['hashtags', 'symbols', 'user_mentions', 'urls'])\n",
      "False\n",
      "('KCMO Public Library', 'Happy #WorldRefugeeDay! We are celebrating the resilience of refugees and their continued contribution to Kansas Ci… https://t.co/JoWJ63VqGl', '\\n') ('retweeted: ', False) ('favorited: ', False) ('reply_status: ', None) ('quoted: ', False)\n",
      "\n",
      "\n",
      "dict_keys(['hashtags', 'symbols', 'user_mentions', 'urls'])\n",
      "False\n",
      "('Plugin Deals', 'Every music producer needs a good sleep!\\nGet yourself an awesome sleeping mask for only $0.99 (FREE Intl Shipping).… https://t.co/BcxKp6Z5sg', '\\n') ('retweeted: ', False) ('favorited: ', False) ('reply_status: ', None) ('quoted: ', False)\n",
      "\n",
      "\n",
      "dict_keys(['hashtags', 'symbols', 'user_mentions', 'urls'])\n",
      "False\n",
      "('The Kansas City Star', 'New York Yankees sent flowers for funeral of fallen Wyandotte County deputies https://t.co/QBxcjeaZhH', '\\n') ('retweeted: ', False) ('favorited: ', False) ('reply_status: ', None) ('quoted: ', False)\n",
      "\n",
      "\n",
      "dict_keys(['hashtags', 'symbols', 'user_mentions', 'urls', 'media'])\n",
      "False\n",
      "('Crunchyroll', \"you're next https://t.co/8LeZ94r5Fx\", '\\n') ('retweeted: ', False) ('favorited: ', False) ('reply_status: ', None) ('quoted: ', False)\n",
      "\n",
      "\n",
      "dict_keys(['hashtags', 'symbols', 'user_mentions', 'urls'])\n",
      "False\n",
      "('Anime News Network', '#Review High School DxD Hero ‒ Episode 10 #anime https://t.co/6Z8S5hGU7v', '\\n') ('retweeted: ', False) ('favorited: ', False) ('reply_status: ', None) ('quoted: ', False)\n",
      "\n",
      "\n",
      "dict_keys(['hashtags', 'symbols', 'user_mentions', 'urls'])\n",
      "False\n",
      "('Anime News Network', '#Review High School DxD Hero ‒ Episode 10 #anime https://t.co/G4QCqXZ4Ps', '\\n') ('retweeted: ', False) ('favorited: ', False) ('reply_status: ', None) ('quoted: ', False)\n",
      "\n",
      "\n",
      "dict_keys(['hashtags', 'symbols', 'user_mentions', 'urls'])\n",
      "False\n",
      "('Jazz FM', 'Listen back to Folded Space with @TonyMinvielle via our Mixcloud.\\n\\nThis week, Tony indulges in a collection of newl… https://t.co/ITb0SV2boW', '\\n') ('retweeted: ', False) ('favorited: ', False) ('reply_status: ', None) ('quoted: ', False)\n",
      "\n",
      "\n",
      "dict_keys(['hashtags', 'symbols', 'user_mentions', 'urls', 'media'])\n",
      "False\n",
      "('Bandeauxx.', 'True To Form out now, on all platforms\\n\\n https://t.co/fS8CiqJoiw https://t.co/JbW14yXp1A', '\\n') ('retweeted: ', False) ('favorited: ', False) ('reply_status: ', None) ('quoted: ', False)\n",
      "\n",
      "\n",
      "dict_keys(['hashtags', 'symbols', 'user_mentions', 'urls'])\n",
      "False\n",
      "('The Kansas City Star', 'Disney ups Twenty-First Century Fox to more than $70.3B https://t.co/vX0hJjHNvK', '\\n') ('retweeted: ', False) ('favorited: ', False) ('reply_status: ', None) ('quoted: ', False)\n",
      "\n",
      "\n",
      "dict_keys(['hashtags', 'symbols', 'user_mentions', 'urls'])\n",
      "False\n",
      "('Kansas City Symphony', 'THIS WEEKEND, June 22-24\\xa0C’est fantastique! Berlioz’ passionate Symphony fantastique plus Bernstein’s larger-than-l… https://t.co/60xRzaYmru', '\\n') ('retweeted: ', False) ('favorited: ', False) ('reply_status: ', None) ('quoted: ', False)\n",
      "\n",
      "\n",
      "dict_keys(['hashtags', 'symbols', 'user_mentions', 'urls'])\n",
      "False\n",
      "('CASHFORGOLD🕯', 'embrace the fuck out of growth bc everything starts to make sense right after you feel the most uncomfortable and s… https://t.co/wAHEe85Igj', '\\n') ('retweeted: ', False) ('favorited: ', False) ('reply_status: ', None) ('quoted: ', False)\n",
      "\n",
      "\n",
      "[]\n"
     ]
    }
   ],
   "source": [
    "homeTweets = api.home_timeline()\n",
    "df = pd.DataFrame(\n",
    "    columns=['user', 'retweeted', 'favorited', 'quoted', 'normal'])\n",
    "data = []\n",
    "temp = []\n",
    "for t in homeTweets:\n",
    "    if t.retweeted is False and t.favorited is False:\n",
    "        normal = True\n",
    "    else:\n",
    "        normal = False\n",
    "    dictTemp = {\n",
    "        \"user\": t.user.name,\n",
    "        \"retweeted\": t.retweeted,\n",
    "        \"favorited\": t.favorited,\n",
    "        \"quoted\": t.is_quote_status,\n",
    "        \"normal\": normal\n",
    "    }\n",
    "    print(t.entities.keys())\n",
    "    print(t.retweeted)\n",
    "    if t.retweeted:\n",
    "       temp = t \n",
    "    print((t.user.name, t.text, \"\\n\"),\n",
    "          (\"retweeted: \", t._json.get('retweeted')),\n",
    "          (\"favorited: \", t._json.get('favorited')),\n",
    "          (\"reply_status: \", t._json.get(\"in_reply_to_screen_name\")),\n",
    "          (\"quoted: \", t.is_quote_status))\n",
    "    print('\\n')\n",
    "\n",
    "print(data)"
   ]
  },
  {
   "cell_type": "code",
   "execution_count": 18,
   "metadata": {
    "collapsed": true
   },
   "outputs": [],
   "source": [
    "t = json.loads(text)"
   ]
  },
  {
   "cell_type": "code",
   "execution_count": 26,
   "metadata": {},
   "outputs": [
    {
     "ename": "AttributeError",
     "evalue": "'Status' object has no attribute 'keys'",
     "output_type": "error",
     "traceback": [
      "\u001b[1;31m---------------------------------------------------------------------------\u001b[0m",
      "\u001b[1;31mAttributeError\u001b[0m                            Traceback (most recent call last)",
      "\u001b[1;32m<ipython-input-26-af2a9ca89b6d>\u001b[0m in \u001b[0;36m<module>\u001b[1;34m()\u001b[0m\n\u001b[1;32m----> 1\u001b[1;33m \u001b[0mprint\u001b[0m\u001b[1;33m(\u001b[0m\u001b[0mt\u001b[0m\u001b[1;33m.\u001b[0m\u001b[0mkeys\u001b[0m\u001b[1;33m(\u001b[0m\u001b[1;33m)\u001b[0m\u001b[1;33m)\u001b[0m\u001b[1;33m\u001b[0m\u001b[0m\n\u001b[0m",
      "\u001b[1;31mAttributeError\u001b[0m: 'Status' object has no attribute 'keys'"
     ]
    }
   ],
   "source": [
    "print(t.keys())"
   ]
  },
  {
   "cell_type": "code",
   "execution_count": 31,
   "metadata": {},
   "outputs": [
    {
     "data": {
      "text/plain": [
       "{'created_at': 'Wed Jun 20 15:24:02 +0000 2018',\n",
       " 'id': 1009456848712491010,\n",
       " 'id_str': '1009456848712491010',\n",
       " 'text': 'Homeland Security drafts plan to end family separation https://t.co/zIgzYoONCH',\n",
       " 'truncated': False,\n",
       " 'entities': {'hashtags': [],\n",
       "  'symbols': [],\n",
       "  'user_mentions': [],\n",
       "  'urls': [{'url': 'https://t.co/zIgzYoONCH',\n",
       "    'expanded_url': 'http://www.kansascity.com/news/nation-world/article213516459.html#storylink=twt_staff',\n",
       "    'display_url': 'kansascity.com/news/nation-wo…',\n",
       "    'indices': [55, 78]}]},\n",
       " 'source': '<a href=\"http://www.kansascity.com\" rel=\"nofollow\">KC Star: Breaking News</a>',\n",
       " 'in_reply_to_status_id': None,\n",
       " 'in_reply_to_status_id_str': None,\n",
       " 'in_reply_to_user_id': None,\n",
       " 'in_reply_to_user_id_str': None,\n",
       " 'in_reply_to_screen_name': None,\n",
       " 'user': {'id': 14955722,\n",
       "  'id_str': '14955722',\n",
       "  'name': 'The Kansas City Star',\n",
       "  'screen_name': 'KCStar',\n",
       "  'location': 'Kansas City, Mo. ',\n",
       "  'description': 'Breaking the news in Kansas City since 1880.',\n",
       "  'url': 'https://t.co/5avXc9kQvj',\n",
       "  'entities': {'url': {'urls': [{'url': 'https://t.co/5avXc9kQvj',\n",
       "      'expanded_url': 'http://www.kansascity.com',\n",
       "      'display_url': 'kansascity.com',\n",
       "      'indices': [0, 23]}]},\n",
       "   'description': {'urls': []}},\n",
       "  'protected': False,\n",
       "  'followers_count': 277984,\n",
       "  'friends_count': 837,\n",
       "  'listed_count': 2713,\n",
       "  'created_at': 'Fri May 30 16:08:18 +0000 2008',\n",
       "  'favourites_count': 1730,\n",
       "  'utc_offset': None,\n",
       "  'time_zone': None,\n",
       "  'geo_enabled': False,\n",
       "  'verified': True,\n",
       "  'statuses_count': 201847,\n",
       "  'lang': 'en',\n",
       "  'contributors_enabled': False,\n",
       "  'is_translator': False,\n",
       "  'is_translation_enabled': False,\n",
       "  'profile_background_color': 'C0DEED',\n",
       "  'profile_background_image_url': 'http://abs.twimg.com/images/themes/theme1/bg.png',\n",
       "  'profile_background_image_url_https': 'https://abs.twimg.com/images/themes/theme1/bg.png',\n",
       "  'profile_background_tile': False,\n",
       "  'profile_image_url': 'http://pbs.twimg.com/profile_images/875426398885859328/HmkLzTRu_normal.jpg',\n",
       "  'profile_image_url_https': 'https://pbs.twimg.com/profile_images/875426398885859328/HmkLzTRu_normal.jpg',\n",
       "  'profile_banner_url': 'https://pbs.twimg.com/profile_banners/14955722/1430340133',\n",
       "  'profile_link_color': '0084B4',\n",
       "  'profile_sidebar_border_color': 'C0DEED',\n",
       "  'profile_sidebar_fill_color': 'DDEEF6',\n",
       "  'profile_text_color': '333333',\n",
       "  'profile_use_background_image': True,\n",
       "  'has_extended_profile': False,\n",
       "  'default_profile': False,\n",
       "  'default_profile_image': False,\n",
       "  'following': True,\n",
       "  'follow_request_sent': False,\n",
       "  'notifications': False,\n",
       "  'translator_type': 'none'},\n",
       " 'geo': None,\n",
       " 'coordinates': None,\n",
       " 'place': None,\n",
       " 'contributors': None,\n",
       " 'is_quote_status': False,\n",
       " 'retweet_count': 2,\n",
       " 'favorite_count': 0,\n",
       " 'favorited': False,\n",
       " 'retweeted': True,\n",
       " 'possibly_sensitive': False,\n",
       " 'possibly_sensitive_appealable': False,\n",
       " 'lang': 'en'}"
      ]
     },
     "execution_count": 31,
     "metadata": {},
     "output_type": "execute_result"
    }
   ],
   "source": [
    "temp._json"
   ]
  },
  {
   "cell_type": "code",
   "execution_count": null,
   "metadata": {
    "collapsed": true
   },
   "outputs": [],
   "source": []
  }
 ],
 "metadata": {
  "kernelspec": {
   "display_name": "Python 3",
   "language": "python",
   "name": "python3"
  },
  "language_info": {
   "codemirror_mode": {
    "name": "ipython",
    "version": 3
   },
   "file_extension": ".py",
   "mimetype": "text/x-python",
   "name": "python",
   "nbconvert_exporter": "python",
   "pygments_lexer": "ipython3",
   "version": "3.6.5"
  },
  "varInspector": {
   "cols": {
    "lenName": 16,
    "lenType": 16,
    "lenVar": 40
   },
   "kernels_config": {
    "python": {
     "delete_cmd_postfix": "",
     "delete_cmd_prefix": "del ",
     "library": "var_list.py",
     "varRefreshCmd": "print(var_dic_list())"
    },
    "r": {
     "delete_cmd_postfix": ") ",
     "delete_cmd_prefix": "rm(",
     "library": "var_list.r",
     "varRefreshCmd": "cat(var_dic_list()) "
    }
   },
   "position": {
    "height": "487px",
    "left": "1166px",
    "right": "20px",
    "top": "120px",
    "width": "351px"
   },
   "types_to_exclude": [
    "module",
    "function",
    "builtin_function_or_method",
    "instance",
    "_Feature"
   ],
   "window_display": false
  }
 },
 "nbformat": 4,
 "nbformat_minor": 2
}
