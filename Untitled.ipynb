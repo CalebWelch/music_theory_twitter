{
 "cells": [
  {
   "cell_type": "code",
   "execution_count": 2,
   "metadata": {
    "collapsed": true
   },
   "outputs": [],
   "source": [
    "import tweepy\n",
    "import pandas as pd\n",
    "import json\n",
    "\n",
    "keysFile = open(\"keys.txt\", \"r\")\n",
    "keys = keysFile.read().splitlines()\n",
    "\n",
    "CONSUMER_KEY = keys[0]\n",
    "CONSUMER_SECRET = keys[1]\n",
    "ACCESS_TOKEN = keys[2]\n",
    "ACCESS_TOKEN_SECRET = keys[3]\n",
    "\n",
    "auth = tweepy.OAuthHandler(CONSUMER_KEY, CONSUMER_SECRET)\n",
    "auth.set_access_token(ACCESS_TOKEN, ACCESS_TOKEN_SECRET)\n",
    "api = tweepy.API(auth)"
   ]
  },
  {
   "cell_type": "code",
   "execution_count": 80,
   "metadata": {
    "scrolled": false
   },
   "outputs": [],
   "source": [
    "df = pd.DataFrame(\n",
    "    columns=['user', 'retweeted', 'favorited', 'quoted', 'normal'])\n",
    "\n",
    "def grabTweets(maxId=None):\n",
    "    homeTweets = api.home_timeline(since_id=maxId,count=1000)\n",
    "    data = []\n",
    "    for t in homeTweets:\n",
    "        normal = True\n",
    "        if \"retweeted_status\" in t._json.keys():\n",
    "            retweeted = True\n",
    "            normal = False\n",
    "        else:\n",
    "            retweeted = False\n",
    "        if \"favorited_status\" in t._json.keys():\n",
    "            favorited = True\n",
    "            normal = False\n",
    "        else:\n",
    "            favorited = False\n",
    "        dictTemp = {\n",
    "            \"id\": t.id,\n",
    "            \"user\": t.user.name,\n",
    "            \"retweeted\": retweeted,\n",
    "            \"favorited\": t.favorited,\n",
    "            \"quoted\": t.is_quote_status,\n",
    "            \"normal\": normal\n",
    "        }\n",
    "        data.append(dictTemp)\n",
    "    return data"
   ]
  },
  {
   "cell_type": "code",
   "execution_count": 81,
   "metadata": {
    "scrolled": true
   },
   "outputs": [],
   "source": [
    "df = pd.DataFrame(grabTweets())\n",
    "df.sort_values(by=['id'])\n",
    "cols = df.columns.tolist()\n",
    "df = df[[\"user\", \"normal\", \"retweeted\", \"quoted\", \"favorited\", \"id\"]]\n"
   ]
  },
  {
   "cell_type": "code",
   "execution_count": 82,
   "metadata": {
    "scrolled": true
   },
   "outputs": [
    {
     "data": {
      "text/plain": [
       "1009865134662213633"
      ]
     },
     "execution_count": 82,
     "metadata": {},
     "output_type": "execute_result"
    }
   ],
   "source": [
    "df.loc[0,'id']"
   ]
  },
  {
   "cell_type": "code",
   "execution_count": 84,
   "metadata": {},
   "outputs": [
    {
     "data": {
      "text/plain": [
       "[{'id': 1009865601756459008,\n",
       "  'user': 'Sonic the Hedgehog',\n",
       "  'retweeted': False,\n",
       "  'favorited': False,\n",
       "  'quoted': False,\n",
       "  'normal': True}]"
      ]
     },
     "execution_count": 84,
     "metadata": {},
     "output_type": "execute_result"
    }
   ],
   "source": [
    "grabTweets(df.loc[0,'id'])"
   ]
  },
  {
   "cell_type": "code",
   "execution_count": null,
   "metadata": {
    "collapsed": true
   },
   "outputs": [],
   "source": []
  }
 ],
 "metadata": {
  "kernelspec": {
   "display_name": "Python 3",
   "language": "python",
   "name": "python3"
  },
  "language_info": {
   "codemirror_mode": {
    "name": "ipython",
    "version": 3
   },
   "file_extension": ".py",
   "mimetype": "text/x-python",
   "name": "python",
   "nbconvert_exporter": "python",
   "pygments_lexer": "ipython3",
   "version": "3.6.5"
  },
  "varInspector": {
   "cols": {
    "lenName": 16,
    "lenType": 16,
    "lenVar": 40
   },
   "kernels_config": {
    "python": {
     "delete_cmd_postfix": "",
     "delete_cmd_prefix": "del ",
     "library": "var_list.py",
     "varRefreshCmd": "print(var_dic_list())"
    },
    "r": {
     "delete_cmd_postfix": ") ",
     "delete_cmd_prefix": "rm(",
     "library": "var_list.r",
     "varRefreshCmd": "cat(var_dic_list()) "
    }
   },
   "position": {
    "height": "487px",
    "left": "1166px",
    "right": "20px",
    "top": "120px",
    "width": "351px"
   },
   "types_to_exclude": [
    "module",
    "function",
    "builtin_function_or_method",
    "instance",
    "_Feature"
   ],
   "window_display": false
  }
 },
 "nbformat": 4,
 "nbformat_minor": 2
}
