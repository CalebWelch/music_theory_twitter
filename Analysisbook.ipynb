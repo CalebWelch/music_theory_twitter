{
 "cells": [
  {
   "cell_type": "code",
   "execution_count": 14,
   "metadata": {},
   "outputs": [],
   "source": [
    "import pandas as pd\n",
    "import numpy as np\n",
    "import seaborn as sb\n",
    "import tweepy\n",
    "from matplotlib import pyplot\n",
    "import os\n",
    "import matplotlib.pyplot as plt\n",
    "%matplotlib inline"
   ]
  },
  {
   "cell_type": "code",
   "execution_count": 2,
   "metadata": {},
   "outputs": [],
   "source": [
    "#script_path = os.path.dirname(os.path.abspath(__file__))\n",
    "keysFile = open((\"keys.txt\"), \"r\")\n",
    "keys = keysFile.read().splitlines()\n",
    "keysFile.close()\n",
    "CONSUMER_KEY = keys[0]\n",
    "CONSUMER_SECRET = keys[1]\n",
    "ACCESS_TOKEN = keys[2]\n",
    "ACCESS_TOKEN_SECRET = keys[3]\n",
    "\n",
    "auth = tweepy.OAuthHandler(CONSUMER_KEY, CONSUMER_SECRET)\n",
    "auth.set_access_token(ACCESS_TOKEN, ACCESS_TOKEN_SECRET)\n",
    "api = tweepy.API(auth)"
   ]
  },
  {
   "cell_type": "code",
   "execution_count": 3,
   "metadata": {},
   "outputs": [],
   "source": [
    "data = pd.read_csv(\"my_csv.csv\")\n",
    "data.columns = ['index','user','normal','retweeted','quoted','favorited','id','timestamp']\n",
    "data.timestamp = pd.to_datetime(data.timestamp)\n",
    "def localizeConvert(x):\n",
    "    x = x.tz_localize('GMT')\n",
    "    x = x.tz_convert('US/Central')\n",
    "    return x\n",
    "data.timestamp = data.timestamp.apply(lambda x: localizeConvert(x))\n",
    "data.index = data.timestamp\n",
    "#data.drop(columns=['Unnamed: 0','timestamp'],axis=1, inplace=True)"
   ]
  },
  {
   "cell_type": "code",
   "execution_count": 5,
   "metadata": {},
   "outputs": [],
   "source": [
    "currentPage = -1\n",
    "friendsList = []\n",
    "while currentPage != 0:\n",
    "    pagedList = api.friends(cursor=currentPage)\n",
    "    currentPage = pagedList[-1][1]\n",
    "    for x in pagedList:\n",
    "        for k in x:\n",
    "            if type(k) is not long and type(k) is not int:\n",
    "                friendsList.append(k.name)\n",
    "\n",
    "temp = pd.DataFrame({'Count' : [len(friendsList), len(data['user'].unique())],\n",
    "                     'V1' : ['FollowersTotal','FollowersTweeted']})\n",
    "temp.index = temp['V1']\n",
    "\n"
   ]
  },
  {
   "cell_type": "markdown",
   "metadata": {},
   "source": [
    "<h1>How many people I follow vs how many of them have tweeted in this time period </h1>"
   ]
  },
  {
   "cell_type": "code",
   "execution_count": 22,
   "metadata": {},
   "outputs": [
    {
     "data": {
      "image/png": "[encoded data removed]",
      "text/plain": [
       "<Figure size 842.4x595.44 with 1 Axes>"
      ]
     },
     "metadata": {
      "needs_background": "light"
     },
     "output_type": "display_data"
    }
   ],
   "source": [
    "a4_dims = (11.7, 8.27)\n",
    "fig, axis = pyplot.subplots(figsize=a4_dims)\n",
    "ax = sb.barplot(ax=axis, y='Count',x='V1',data=temp)\n",
    "ax.set_xlabel('')\n",
    "plt.show()"
   ]
  },
  {
   "cell_type": "code",
   "execution_count": 7,
   "metadata": {},
   "outputs": [],
   "source": [
    "uniqueList = set(data['user'].unique())\n",
    "uniqueDict = {k: 0 for k in uniqueList}\n",
    "for x in (data['user']):\n",
    "    if (uniqueDict.has_key(x)):\n",
    "        uniqueDict[x] = uniqueDict.get(x) + 1"
   ]
  },
  {
   "cell_type": "code",
   "execution_count": 24,
   "metadata": {
    "scrolled": true
   },
   "outputs": [
    {
     "data": {
      "image/png": "[encoded data removed]",
      "text/plain": [
       "<Figure size 842.4x595.44 with 1 Axes>"
      ]
     },
     "metadata": {
      "needs_background": "light"
     },
     "output_type": "display_data"
    }
   ],
   "source": [
    "fig, axis = pyplot.subplots(figsize=a4_dims)\n",
    "ax = sb.distplot( uniqueDict.values(),ax=axis, rug=True)\n",
    "plt.title('Distribution of tweets per user')\n",
    "plt.xlabel('Number of tweets')\n",
    "plt.show()\n",
    "#for w in sorted(uniqueDict, key=uniqueDict.get, reverse=True):\n",
    "#    print w, uniqueDict[w]"
   ]
  },
  {
   "cell_type": "markdown",
   "metadata": {},
   "source": [
    "<h1>TODO: make comparison of top ~5 tweeters and what they do(retweet, original etc)</h1>"
   ]
  },
  {
   "cell_type": "code",
   "execution_count": 67,
   "metadata": {},
   "outputs": [
    {
     "data": {
      "text/plain": [
       "['The Kansas City Star',\n",
       " 'Bandeauxx.',\n",
       " 'Crunchyroll',\n",
       " 'Anime News Network',\n",
       " 'NEST HQ']"
      ]
     },
     "execution_count": 67,
     "metadata": {},
     "output_type": "execute_result"
    }
   ],
   "source": [
    "sorted(uniqueDict, key=uniqueDict.get, reverse=True)[:5]"
   ]
  },
  {
   "cell_type": "code",
   "execution_count": 26,
   "metadata": {},
   "outputs": [
    {
     "name": "stdout",
     "output_type": "stream",
     "text": [
      "True     3772\n",
      "False    1526\n",
      "Name: normal, dtype: int64\n",
      "False    3772\n",
      "True     1526\n",
      "Name: retweeted, dtype: int64\n",
      "False    4980\n",
      "True      318\n",
      "Name: quoted, dtype: int64\n"
     ]
    }
   ],
   "source": [
    "for column in data[['normal','retweeted','quoted']]:\n",
    "    print data[column].value_counts()"
   ]
  },
  {
   "cell_type": "code",
   "execution_count": 39,
   "metadata": {},
   "outputs": [
    {
     "data": {
      "text/plain": [
       "normal       5298\n",
       "retweeted    5298\n",
       "dtype: int64"
      ]
     },
     "execution_count": 39,
     "metadata": {},
     "output_type": "execute_result"
    }
   ],
   "source": [
    "data[['normal','retweeted']].count()"
   ]
  },
  {
   "cell_type": "code",
   "execution_count": 38,
   "metadata": {},
   "outputs": [
    {
     "data": {
      "text/html": [
       "<div>\n",
       "<style scoped>\n",
       "    .dataframe tbody tr th:only-of-type {\n",
       "        vertical-align: middle;\n",
       "    }\n",
       "\n",
       "    .dataframe tbody tr th {\n",
       "        vertical-align: top;\n",
       "    }\n",
       "\n",
       "    .dataframe thead th {\n",
       "        text-align: right;\n",
       "    }\n",
       "</style>\n",
       "<table border=\"1\" class=\"dataframe\">\n",
       "  <thead>\n",
       "    <tr style=\"text-align: right;\">\n",
       "      <th></th>\n",
       "      <th>normal</th>\n",
       "      <th>retweeted</th>\n",
       "    </tr>\n",
       "    <tr>\n",
       "      <th>timestamp</th>\n",
       "      <th></th>\n",
       "      <th></th>\n",
       "    </tr>\n",
       "  </thead>\n",
       "  <tbody>\n",
       "    <tr>\n",
       "      <th>0</th>\n",
       "      <td>0.828746</td>\n",
       "      <td>0.171254</td>\n",
       "    </tr>\n",
       "    <tr>\n",
       "      <th>1</th>\n",
       "      <td>0.656863</td>\n",
       "      <td>0.343137</td>\n",
       "    </tr>\n",
       "    <tr>\n",
       "      <th>2</th>\n",
       "      <td>0.803191</td>\n",
       "      <td>0.196809</td>\n",
       "    </tr>\n",
       "    <tr>\n",
       "      <th>3</th>\n",
       "      <td>0.795122</td>\n",
       "      <td>0.204878</td>\n",
       "    </tr>\n",
       "    <tr>\n",
       "      <th>4</th>\n",
       "      <td>0.796296</td>\n",
       "      <td>0.203704</td>\n",
       "    </tr>\n",
       "    <tr>\n",
       "      <th>5</th>\n",
       "      <td>0.940000</td>\n",
       "      <td>0.060000</td>\n",
       "    </tr>\n",
       "    <tr>\n",
       "      <th>6</th>\n",
       "      <td>0.840532</td>\n",
       "      <td>0.159468</td>\n",
       "    </tr>\n",
       "    <tr>\n",
       "      <th>7</th>\n",
       "      <td>0.729469</td>\n",
       "      <td>0.270531</td>\n",
       "    </tr>\n",
       "    <tr>\n",
       "      <th>8</th>\n",
       "      <td>0.666667</td>\n",
       "      <td>0.333333</td>\n",
       "    </tr>\n",
       "    <tr>\n",
       "      <th>9</th>\n",
       "      <td>0.759777</td>\n",
       "      <td>0.240223</td>\n",
       "    </tr>\n",
       "    <tr>\n",
       "      <th>10</th>\n",
       "      <td>0.704348</td>\n",
       "      <td>0.295652</td>\n",
       "    </tr>\n",
       "    <tr>\n",
       "      <th>11</th>\n",
       "      <td>0.686567</td>\n",
       "      <td>0.313433</td>\n",
       "    </tr>\n",
       "    <tr>\n",
       "      <th>12</th>\n",
       "      <td>0.682243</td>\n",
       "      <td>0.317757</td>\n",
       "    </tr>\n",
       "    <tr>\n",
       "      <th>13</th>\n",
       "      <td>0.660550</td>\n",
       "      <td>0.339450</td>\n",
       "    </tr>\n",
       "    <tr>\n",
       "      <th>14</th>\n",
       "      <td>0.556075</td>\n",
       "      <td>0.443925</td>\n",
       "    </tr>\n",
       "    <tr>\n",
       "      <th>15</th>\n",
       "      <td>0.602804</td>\n",
       "      <td>0.397196</td>\n",
       "    </tr>\n",
       "    <tr>\n",
       "      <th>16</th>\n",
       "      <td>0.625000</td>\n",
       "      <td>0.375000</td>\n",
       "    </tr>\n",
       "    <tr>\n",
       "      <th>17</th>\n",
       "      <td>0.673267</td>\n",
       "      <td>0.326733</td>\n",
       "    </tr>\n",
       "    <tr>\n",
       "      <th>18</th>\n",
       "      <td>0.698347</td>\n",
       "      <td>0.301653</td>\n",
       "    </tr>\n",
       "    <tr>\n",
       "      <th>19</th>\n",
       "      <td>0.669725</td>\n",
       "      <td>0.330275</td>\n",
       "    </tr>\n",
       "    <tr>\n",
       "      <th>20</th>\n",
       "      <td>0.716814</td>\n",
       "      <td>0.283186</td>\n",
       "    </tr>\n",
       "    <tr>\n",
       "      <th>21</th>\n",
       "      <td>0.622881</td>\n",
       "      <td>0.377119</td>\n",
       "    </tr>\n",
       "    <tr>\n",
       "      <th>22</th>\n",
       "      <td>0.666667</td>\n",
       "      <td>0.333333</td>\n",
       "    </tr>\n",
       "    <tr>\n",
       "      <th>23</th>\n",
       "      <td>0.711656</td>\n",
       "      <td>0.288344</td>\n",
       "    </tr>\n",
       "  </tbody>\n",
       "</table>\n",
       "</div>"
      ],
      "text/plain": [
       "             normal  retweeted\n",
       "timestamp                     \n",
       "0          0.828746   0.171254\n",
       "1          0.656863   0.343137\n",
       "2          0.803191   0.196809\n",
       "3          0.795122   0.204878\n",
       "4          0.796296   0.203704\n",
       "5          0.940000   0.060000\n",
       "6          0.840532   0.159468\n",
       "7          0.729469   0.270531\n",
       "8          0.666667   0.333333\n",
       "9          0.759777   0.240223\n",
       "10         0.704348   0.295652\n",
       "11         0.686567   0.313433\n",
       "12         0.682243   0.317757\n",
       "13         0.660550   0.339450\n",
       "14         0.556075   0.443925\n",
       "15         0.602804   0.397196\n",
       "16         0.625000   0.375000\n",
       "17         0.673267   0.326733\n",
       "18         0.698347   0.301653\n",
       "19         0.669725   0.330275\n",
       "20         0.716814   0.283186\n",
       "21         0.622881   0.377119\n",
       "22         0.666667   0.333333\n",
       "23         0.711656   0.288344"
      ]
     },
     "execution_count": 38,
     "metadata": {},
     "output_type": "execute_result"
    }
   ],
   "source": [
    "data[['normal','retweeted']].groupby(data.timestamp.dt.hour).mean()"
   ]
  },
  {
   "cell_type": "code",
   "execution_count": null,
   "metadata": {},
   "outputs": [],
   "source": []
  }
 ],
 "metadata": {
  "kernelspec": {
   "display_name": "Python 2",
   "language": "python",
   "name": "python2"
  },
  "language_info": {
   "codemirror_mode": {
    "name": "ipython",
    "version": 2
   },
   "file_extension": ".py",
   "mimetype": "text/x-python",
   "name": "python",
   "nbconvert_exporter": "python",
   "pygments_lexer": "ipython2",
   "version": "2.7.15"
  },
  "varInspector": {
   "cols": {
    "lenName": 16,
    "lenType": 16,
    "lenVar": 40
   },
   "kernels_config": {
    "python": {
     "delete_cmd_postfix": "",
     "delete_cmd_prefix": "del ",
     "library": "var_list.py",
     "varRefreshCmd": "print(var_dic_list())"
    },
    "r": {
     "delete_cmd_postfix": ") ",
     "delete_cmd_prefix": "rm(",
     "library": "var_list.r",
     "varRefreshCmd": "cat(var_dic_list()) "
    }
   },
   "types_to_exclude": [
    "module",
    "function",
    "builtin_function_or_method",
    "instance",
    "_Feature"
   ],
   "window_display": false
  }
 },
 "nbformat": 4,
 "nbformat_minor": 2
}
